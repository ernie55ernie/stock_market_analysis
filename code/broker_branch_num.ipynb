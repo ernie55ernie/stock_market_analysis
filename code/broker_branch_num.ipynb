{
 "cells": [
  {
   "cell_type": "code",
   "execution_count": null,
   "id": "de5e9652",
   "metadata": {},
   "outputs": [],
   "source": [
    "from selenium import webdriver\n",
    "from selenium.webdriver.common.by import By\n",
    "from selenium.webdriver.support.ui import Select\n",
    "from selenium.webdriver.support.ui import WebDriverWait\n",
    "from selenium.webdriver.support import expected_conditions as EC\n",
    "import requests\n",
    "from bs4 import BeautifulSoup\n",
    "import pandas as pd\n",
    "\n",
    "# Step 1: Fetch broker and broker branch values using Selenium\n",
    "driver = webdriver.Chrome()  # Ensure you have the correct driver installed\n",
    "url = \"https://concords.moneydj.com/z/zc/zco/zco.djhtm?a=1101\"\n",
    "driver.get(url)\n",
    "\n",
    "try:\n",
    "    # Wait for the main form to load\n",
    "    WebDriverWait(driver, 10).until(\n",
    "        EC.presence_of_element_located((By.NAME, \"sel_Broker\"))\n",
    "    )\n",
    "\n",
    "    # Select each broker in the dropdown\n",
    "    broker_select = Select(driver.find_element(By.NAME, \"sel_Broker\"))\n",
    "    brokerDict = {}\n",
    "    for broker_option in broker_select.options:\n",
    "        brokerDict[broker_option.text] = broker_option.get_attribute(\"value\")\n",
    "    \n",
    "    broker_branches = []\n",
    "    for broker_name, broker_value in brokerDict.items():\n",
    "\n",
    "        # Skip if value is empty\n",
    "        if not broker_value:\n",
    "            continue\n",
    "\n",
    "        broker_select = Select(driver.find_element(By.NAME, \"sel_Broker\"))\n",
    "        broker_select.select_by_value(broker_value)\n",
    "        # Select each branch for the current broker\n",
    "        branch_select = Select(driver.find_element(By.NAME, \"sel_BrokerBranch\"))\n",
    "\n",
    "        nameValue = {}\n",
    "        for branch_option in branch_select.options:\n",
    "            branch_value = branch_option.get_attribute(\"value\")\n",
    "            branch_name = branch_option.text.strip()\n",
    "            broker_branches.append({\n",
    "                \"broker_value\": broker_value,\n",
    "                \"broker_name\": broker_name,\n",
    "                \"branch_value\": branch_value,\n",
    "                \"branch_name\": branch_name\n",
    "            })\n",
    "\n",
    "finally:\n",
    "    driver.quit()\n",
    "\n",
    "len(brokerDict), len(broker_branches)"
   ]
  },
  {
   "cell_type": "code",
   "execution_count": null,
   "id": "ae0122fd",
   "metadata": {},
   "outputs": [],
   "source": []
  }
 ],
 "metadata": {
  "kernelspec": {
   "display_name": "Python 3 (ipykernel)",
   "language": "python",
   "name": "python3"
  },
  "language_info": {
   "codemirror_mode": {
    "name": "ipython",
    "version": 3
   },
   "file_extension": ".py",
   "mimetype": "text/x-python",
   "name": "python",
   "nbconvert_exporter": "python",
   "pygments_lexer": "ipython3",
   "version": "3.8.11"
  }
 },
 "nbformat": 4,
 "nbformat_minor": 5
}
